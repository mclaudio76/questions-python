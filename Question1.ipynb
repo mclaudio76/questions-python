{
 "cells": [
  {
   "cell_type": "code",
   "execution_count": 203,
   "metadata": {},
   "outputs": [],
   "source": [
    "import numpy as np\n",
    "from sklearn.model_selection import train_test_split"
   ]
  },
  {
   "cell_type": "code",
   "execution_count": 204,
   "metadata": {},
   "outputs": [],
   "source": [
    "# Some global defs...\n",
    "np.random.seed (42)\n",
    "n = 100 # observations\n",
    "variables = 5# x1 through x5\n",
    "#\n",
    "x1 = np.random.rand(n)\n",
    "x2 = np.random.rand(n)\n",
    "x3 = np.random.rand(n)\n",
    "x4 = np.random.rand(n)\n",
    "x5 = np.random.rand(n)"
   ]
  },
  {
   "cell_type": "code",
   "execution_count": 205,
   "metadata": {},
   "outputs": [],
   "source": [
    "# Function we have to work with\n",
    "def true_func(x1,x2,x3,x4,x5):\n",
    "    return 1 + 2 * x1 - 3*x2"
   ]
  },
  {
   "cell_type": "code",
   "execution_count": 206,
   "metadata": {},
   "outputs": [],
   "source": [
    "y = true_func(x1,x2,x3,x4,x5) + np.random.randn(n)"
   ]
  },
  {
   "cell_type": "code",
   "execution_count": 207,
   "metadata": {},
   "outputs": [],
   "source": [
    "# Question 1.2 : write a function called reg_ridge.."
   ]
  },
  {
   "cell_type": "code",
   "execution_count": 208,
   "metadata": {},
   "outputs": [],
   "source": [
    "# I need to create a single X matrix from the vectors X1..X5, let's write\n",
    "# an handy helper function.\n",
    "def mergeArray(*arrays):\n",
    "    k = np.concatenate(arrays).reshape(5,n)\n",
    "    return k.T;\n",
    "        "
   ]
  },
  {
   "cell_type": "code",
   "execution_count": 209,
   "metadata": {},
   "outputs": [],
   "source": [
    "def reg_ridge(X, y, l):\n",
    "    #print( \" X shape is (row, col) \", X.shape)\n",
    "    #print( \" X_t shape is (row, col) \", X.T.shape)\n",
    "    matrix = X.T.dot(X)\n",
    "    #print( \" Xt*X shape is (row, col) \", matrix.shape)\n",
    "    I      = np.identity(matrix.shape[0])  * l\n",
    "    #print( \" I shape is (row, col) \", I.shape)\n",
    "    matrix2 = matrix + I\n",
    "    #print( \" matrix2 shape is (row, col) \", matrix2.shape)\n",
    "    invMax  = np.linalg.inv(matrix2);\n",
    "    #print( \" invMax shape is (row, col) \", invMax.shape)\n",
    "    result  = invMax.dot(X.T).dot(y)\n",
    "    return result\n"
   ]
  },
  {
   "cell_type": "code",
   "execution_count": 210,
   "metadata": {},
   "outputs": [],
   "source": [
    "X_input = mergeArray(x1,x2,x3,x4,x5)\n",
    "#m, n    = X_input.shape\n",
    "#print(\"m, n = \", m, n)"
   ]
  },
  {
   "cell_type": "code",
   "execution_count": 211,
   "metadata": {},
   "outputs": [],
   "source": [
    "beta = reg_ridge(X_input, y, 1)"
   ]
  },
  {
   "cell_type": "code",
   "execution_count": 212,
   "metadata": {},
   "outputs": [
    {
     "name": "stdout",
     "output_type": "stream",
     "text": [
      "[ 3.01421087 -2.11963412  0.09564899 -0.31067582  0.21418983]\n"
     ]
    }
   ],
   "source": [
    "print (beta)"
   ]
  },
  {
   "cell_type": "code",
   "execution_count": 213,
   "metadata": {},
   "outputs": [],
   "source": [
    "# Question Q.13: Use scikit learn train_test_split function"
   ]
  },
  {
   "cell_type": "code",
   "execution_count": 214,
   "metadata": {},
   "outputs": [],
   "source": [
    "X_train, X_test, y_train, y_test = train_test_split(X_input, y, test_size = 0.2)"
   ]
  },
  {
   "cell_type": "code",
   "execution_count": 215,
   "metadata": {},
   "outputs": [],
   "source": [
    "# Question Q.14 : Calculate  betas for l = 0, 1, 10, 100"
   ]
  },
  {
   "cell_type": "code",
   "execution_count": 216,
   "metadata": {},
   "outputs": [],
   "source": [
    "def calc_betas():\n",
    "    betas = list()\n",
    "    lambda_values = [0, 1, 10, 100]\n",
    "    for l in lambda_values:\n",
    "        betas.append(reg_ridge(X_train,y_train, l))\n",
    "    return betas"
   ]
  },
  {
   "cell_type": "code",
   "execution_count": 217,
   "metadata": {},
   "outputs": [
    {
     "name": "stdout",
     "output_type": "stream",
     "text": [
      "[array([ 3.33021742, -2.24940001,  0.21712298, -0.50193364,  0.07114856]), array([ 2.94390131, -1.98218336,  0.24693583, -0.48585157,  0.1223282 ]), array([ 1.49069104, -0.93153344,  0.26287476, -0.27256846,  0.19764355]), array([ 0.30096086, -0.10073553,  0.11355908,  0.00207181,  0.10419334])]\n"
     ]
    }
   ],
   "source": [
    "print(calc_betas())"
   ]
  },
  {
   "cell_type": "code",
   "execution_count": 218,
   "metadata": {},
   "outputs": [],
   "source": [
    "#Question Q.15"
   ]
  },
  {
   "cell_type": "code",
   "execution_count": 221,
   "metadata": {},
   "outputs": [],
   "source": [
    "#First define a function to plot data given X and Y set.\n",
    "def plot_dataset(X_data, y_data, lambdas):\n",
    "    coefs = []\n",
    "    for lamb in lambdas:\n",
    "        coefs.append(reg_ridge(X_train, y_train, lamb))\n",
    "    labels = [\"$\\\\beta_0$\",\"$\\\\beta_1$\", \"$\\\\beta_2$\", \"$\\\\beta_3$\", \"$\\\\beta_4$\",\"$\\\\beta_5$\"]\n",
    "    lines  = plt.plot(lambda_values, coefs)\n",
    "    plt.xlabel(\"$\\\\lambda$\")\n",
    "    plt.ylabel(\"$\\\\beta$\")\n",
    "\n"
   ]
  },
  {
   "cell_type": "code",
   "execution_count": 222,
   "metadata": {},
   "outputs": [
    {
     "data": {
      "image/png": "[encoded data removed]",
      "text/plain": [
       "<Figure size 432x288 with 1 Axes>"
      ]
     },
     "metadata": {
      "needs_background": "light"
     },
     "output_type": "display_data"
    }
   ],
   "source": [
    "lambda_values = [0, 1, 10, 20, 30, 40, 50, 60, 70, 80, 100]\n",
    "plot_dataset(X_train, y_train, lambda_values)"
   ]
  },
  {
   "cell_type": "code",
   "execution_count": 223,
   "metadata": {},
   "outputs": [],
   "source": [
    "#Question Q.16 : using both training and test data"
   ]
  },
  {
   "cell_type": "code",
   "execution_count": 224,
   "metadata": {},
   "outputs": [
    {
     "data": {
      "image/png": "[encoded data removed]",
      "text/plain": [
       "<Figure size 432x288 with 1 Axes>"
      ]
     },
     "metadata": {
      "needs_background": "light"
     },
     "output_type": "display_data"
    }
   ],
   "source": [
    "lambda_values = [0, 1, 10, 20, 30, 40, 50, 60, 70, 80, 100]\n",
    "plot_dataset(X_input, y, lambda_values)"
   ]
  },
  {
   "cell_type": "code",
   "execution_count": null,
   "metadata": {},
   "outputs": [],
   "source": []
  }
 ],
 "metadata": {
  "kernelspec": {
   "display_name": "Python 3",
   "language": "python",
   "name": "python3"
  },
  "language_info": {
   "codemirror_mode": {
    "name": "ipython",
    "version": 3
   },
   "file_extension": ".py",
   "mimetype": "text/x-python",
   "name": "python",
   "nbconvert_exporter": "python",
   "pygments_lexer": "ipython3",
   "version": "3.6.8"
  }
 },
 "nbformat": 4,
 "nbformat_minor": 2
}
