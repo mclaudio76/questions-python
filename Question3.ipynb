{
 "cells": [
  {
   "cell_type": "code",
   "execution_count": 1,
   "metadata": {},
   "outputs": [],
   "source": [
    "import numpy as np\n",
    "y1 = np.array([1,2,3,4,5,6,7,8,9])\n",
    "y2 = np.array([1,2,2,3,3,3,4,4,4,4])\n",
    "y3 = np.array([0,1,2,3,3,2,1,0])"
   ]
  },
  {
   "cell_type": "code",
   "execution_count": 2,
   "metadata": {},
   "outputs": [],
   "source": [
    "# Question 3.1.\n",
    "#  Calculating the derivative of L2 = SUM( (y-b) ^2) allows us to write:\n",
    "#  dL2 = 2SUM(y-b) = 0 --> SUM(y) - n*b (since b is a costant) --> b = SUM(y) / n, that is simply the mean\n",
    "#  of the dataset.\n",
    "#\n",
    "#"
   ]
  },
  {
   "cell_type": "code",
   "execution_count": 3,
   "metadata": {},
   "outputs": [
    {
     "name": "stdout",
     "output_type": "stream",
     "text": [
      "5.0\n",
      "3.0\n",
      "1.5\n"
     ]
    }
   ],
   "source": [
    "print(np.mean(y1))\n",
    "print(np.mean(y2))\n",
    "print(np.mean(y3))\n"
   ]
  },
  {
   "cell_type": "code",
   "execution_count": 4,
   "metadata": {},
   "outputs": [],
   "source": [
    "def L2Loss(array, b):\n",
    "    val = 0.0\n",
    "    for x in array:\n",
    "        val += (x - b) **2\n",
    "    return val"
   ]
  },
  {
   "cell_type": "code",
   "execution_count": 5,
   "metadata": {},
   "outputs": [
    {
     "name": "stdout",
     "output_type": "stream",
     "text": [
      "loss L2 , datataset y1  60.0\n",
      "loss L2 , datataset y2  10.0\n",
      "loss L2 , datataset y3  10.0\n"
     ]
    }
   ],
   "source": [
    "print(\"loss L2 , datataset y1 \",L2Loss(y1, np.mean(y1)))\n",
    "print(\"loss L2 , datataset y2 \",L2Loss(y2, np.mean(y2)))\n",
    "print(\"loss L2 , datataset y3 \",L2Loss(y3, np.mean(y3)))\n"
   ]
  },
  {
   "cell_type": "code",
   "execution_count": 6,
   "metadata": {},
   "outputs": [],
   "source": [
    "# Question 3.2. \n",
    "# Derivative of L1 function is dL1 = SUM sgn ( y - b), i.e sum ( 1 if y >= b, -1 otherwise).\n",
    "# This derivative can only be zero when numbers yi > b and numbers < b are equally distributed, and this happens\n",
    "# when we choose b equal to the median of the dataset."
   ]
  },
  {
   "cell_type": "code",
   "execution_count": 7,
   "metadata": {},
   "outputs": [],
   "source": [
    "def L1Loss(array, b):\n",
    "    val = 0.0\n",
    "    for x in array:\n",
    "        val += abs(x-b)\n",
    "    return val"
   ]
  },
  {
   "cell_type": "code",
   "execution_count": 8,
   "metadata": {},
   "outputs": [
    {
     "name": "stdout",
     "output_type": "stream",
     "text": [
      "loss L1 , datataset y1 =  20.0\n",
      "loss L1 , datataset y2 =  8.0\n",
      "loss L1 , datataset y3 =  8.0\n"
     ]
    }
   ],
   "source": [
    "print(\"loss L1 , datataset y1 = \",L1Loss(y1, np.median(y1)))\n",
    "print(\"loss L1 , datataset y2 = \",L1Loss(y2, np.median(y2)))\n",
    "print(\"loss L1 , datataset y3 = \",L1Loss(y3, np.median(y3)))"
   ]
  },
  {
   "cell_type": "code",
   "execution_count": 9,
   "metadata": {},
   "outputs": [],
   "source": [
    "# Question 3.3. \n",
    "# L0 Function it is not differentiable, and its value it's zero for any b which doesn't belong to y,\n",
    "# i.e any number belonging to y' (complimentary set), i.e a number which Indicator function I(b,y) = 0.\n",
    "# For example we can choose b = max(abs(y))+1\n",
    "\n",
    "def L0Loss(array, b):\n",
    "    val = 0.0\n",
    "    for x in array:\n",
    "        val += 1 if x == b else 0;\n",
    "    return val"
   ]
  },
  {
   "cell_type": "code",
   "execution_count": 14,
   "metadata": {},
   "outputs": [
    {
     "name": "stdout",
     "output_type": "stream",
     "text": [
      "loss L0 , datataset y1 =  0.0\n",
      "loss L0 , datataset y2 =  0.0\n",
      "loss L0 , datataset y3 =  0.0\n",
      "loss L0 , datataset y3 =  2.0\n"
     ]
    }
   ],
   "source": [
    "print(\"loss L0 , datataset y1 = \",L0Loss(y1, np.max(np.abs(y1))+1))\n",
    "print(\"loss L0 , datataset y2 = \",L0Loss(y2, np.max(np.abs(y2))+1))\n",
    "print(\"loss L0 , datataset y3 = \",L0Loss(y3, np.max(np.abs(y3))+1))\n",
    "\n"
   ]
  },
  {
   "cell_type": "code",
   "execution_count": null,
   "metadata": {},
   "outputs": [],
   "source": [
    "# Question 3.4\n",
    "# The MEAN   of y ...\n",
    "# The MEDIAN of y ..."
   ]
  }
 ],
 "metadata": {
  "kernelspec": {
   "display_name": "Python 3",
   "language": "python",
   "name": "python3"
  },
  "language_info": {
   "codemirror_mode": {
    "name": "ipython",
    "version": 3
   },
   "file_extension": ".py",
   "mimetype": "text/x-python",
   "name": "python",
   "nbconvert_exporter": "python",
   "pygments_lexer": "ipython3",
   "version": "3.6.8"
  }
 },
 "nbformat": 4,
 "nbformat_minor": 2
}
