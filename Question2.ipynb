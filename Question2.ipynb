{
 "cells": [
  {
   "cell_type": "code",
   "execution_count": 1,
   "metadata": {},
   "outputs": [],
   "source": [
    "import numpy as np"
   ]
  },
  {
   "cell_type": "code",
   "execution_count": 2,
   "metadata": {},
   "outputs": [],
   "source": [
    "# We need to perform a 'reshape' step\n",
    "\n",
    "x = np.array([0.56, 0.09, 0.19, 0.35, 0.98, 0.01, 0.43, 0.07, 0.70, 0.51]).reshape(-1,1)\n",
    "y = np.array([-0.18, 0.52, 0.45, 0.33, -0.62, 0.91, 0.02, 0.86, 0.04, 0.06]).reshape(-1,1)"
   ]
  },
  {
   "cell_type": "code",
   "execution_count": 3,
   "metadata": {},
   "outputs": [],
   "source": [
    "def regr1(X, y):\n",
    "    # use 'classical' formula (Xt * X)^-1 * Xt * y\n",
    "    product = X.T.dot(X)\n",
    "    invMax  = np.linalg.inv(product);\n",
    "    return  invMax.dot(X.T).dot(y)\n",
    "    "
   ]
  },
  {
   "cell_type": "code",
   "execution_count": 4,
   "metadata": {},
   "outputs": [],
   "source": [
    "def regr2(X,y):\n",
    "    # use 'reduxed' formula R^−1 * Qt * y\n",
    "    # where R and Q are derived by QR decomposition\n",
    "    # We use here numpy QR algorithm\n",
    "    q, r =  np.linalg.qr(X)\n",
    "    return np.linalg.inv(r).dot(q.T).dot(y);\n",
    "    "
   ]
  },
  {
   "cell_type": "code",
   "execution_count": 5,
   "metadata": {},
   "outputs": [],
   "source": [
    "beta_1 = regr1(x,y)"
   ]
  },
  {
   "cell_type": "code",
   "execution_count": 6,
   "metadata": {},
   "outputs": [
    {
     "name": "stdout",
     "output_type": "stream",
     "text": [
      " Q matrix  [[-0.36294072]\n",
      " [-0.05832976]\n",
      " [-0.1231406 ]\n",
      " [-0.22683795]\n",
      " [-0.63514625]\n",
      " [-0.00648108]\n",
      " [-0.27868662]\n",
      " [-0.04536759]\n",
      " [-0.45367589]\n",
      " [-0.33053529]]\n",
      " R matrix  [[-1.54295172]]\n"
     ]
    }
   ],
   "source": [
    "beta_2 = regr2(x,y)"
   ]
  },
  {
   "cell_type": "code",
   "execution_count": 7,
   "metadata": {},
   "outputs": [
    {
     "name": "stdout",
     "output_type": "stream",
     "text": [
      " Beta (1) calculated via 'normal' formula ')  [[-0.13613643]]\n"
     ]
    }
   ],
   "source": [
    "print(\" Beta (1) calculated via 'normal' formula ') \", beta_1)"
   ]
  },
  {
   "cell_type": "code",
   "execution_count": 8,
   "metadata": {},
   "outputs": [
    {
     "name": "stdout",
     "output_type": "stream",
     "text": [
      " Beta (2) calculated via 'normal' formula ')  [[-0.13613643]]\n"
     ]
    }
   ],
   "source": [
    "print(\" Beta (2) calculated via 'normal' formula ') \", beta_2)"
   ]
  },
  {
   "cell_type": "code",
   "execution_count": null,
   "metadata": {},
   "outputs": [],
   "source": []
  }
 ],
 "metadata": {
  "kernelspec": {
   "display_name": "Python 3",
   "language": "python",
   "name": "python3"
  },
  "language_info": {
   "codemirror_mode": {
    "name": "ipython",
    "version": 3
   },
   "file_extension": ".py",
   "mimetype": "text/x-python",
   "name": "python",
   "nbconvert_exporter": "python",
   "pygments_lexer": "ipython3",
   "version": "3.6.8"
  }
 },
 "nbformat": 4,
 "nbformat_minor": 2
}
